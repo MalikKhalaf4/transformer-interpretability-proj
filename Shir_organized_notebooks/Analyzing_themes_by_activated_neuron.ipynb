{
 "cells": [
  {
   "cell_type": "markdown",
   "id": "5c829baf",
   "metadata": {},
   "source": [
    "# Neuron Theme Extraction: Build Per-Layer Query Sets (Layers 17–23)\n",
    "\n",
    "This notebook loads precomputed neuron activation statistics (`stats`) and a QID→query mapping (`qids_to_queries`), then exports **per-layer** dictionaries that map each neuron to the queries that activated it. These outputs are used for **LLM-based subject annotation** of neuron themes.\n",
    "\n",
    "**Inputs**\n",
    "- `stats[\"by_layer\"][\"layer_XX\"][neuron][\"entries\"]` → list of QIDs per neuron\n",
    "- `qids_to_queries[QID]` → original query string\n",
    "\n",
    "**Outputs (written)**\n",
    "- `neurons_and_queries/layer_XX_neurons_and_queries.json`\n",
    "- `neurons_and_queries/layer_XX_neurons_and_queries_small.json` (only neurons with 10–1000 queries)\n"
   ]
  },
  {
   "cell_type": "code",
   "execution_count": null,
   "id": "4a8a10f4",
   "metadata": {},
   "outputs": [],
   "source": [
    "import json\n",
    "import numpy as np\n",
    "import torch"
   ]
  },
  {
   "cell_type": "markdown",
   "id": "923e7322",
   "metadata": {},
   "source": [
    "## Load activation statistics (`stats`)"
   ]
  },
  {
   "cell_type": "code",
   "execution_count": null,
   "id": "6a1da0fb",
   "metadata": {
    "ExecuteTime": {
     "end_time": "2025-08-22T13:47:02.525289400Z",
     "start_time": "2025-08-22T13:47:02.504282500Z"
    }
   },
   "outputs": [],
   "source": [
    "def _to_int(x):\n",
    "    \"\"\"Best-effort int conversion for scalars, 0-d tensors/np scalars, or single-item lists.\"\"\"\n",
    "    try:\n",
    "        if hasattr(x, 'item'):\n",
    "            return int(x.item())\n",
    "        return int(x)\n",
    "    except Exception:\n",
    "        try:\n",
    "            if isinstance(x, np.generic):\n",
    "                return int(x)\n",
    "        except Exception:\n",
    "            pass\n",
    "        if isinstance(x, (list, tuple)) and len(x) == 1:\n",
    "            try:\n",
    "                return int(x[0])\n",
    "            except Exception:\n",
    "                return None\n",
    "        return None\n",
    "\n",
    "def load_result_and_stats(result_path: str='activated_neurons_train_val.json', stats_path: str='neuron_activation_stats.json'):\n",
    "    with open(result_path, 'r', encoding='utf-8') as f:\n",
    "        rd = json.load(f)\n",
    "    if isinstance(rd, dict) and 'data' in rd and isinstance(rd['data'], dict):\n",
    "        rd = rd['data']\n",
    "    for q, rec in list(rd.items()):\n",
    "        if not isinstance(rec, dict):\n",
    "            continue\n",
    "        cdi = rec.get('correct_doc_id', None)\n",
    "        if cdi is not None:\n",
    "            val = _to_int(cdi)\n",
    "            if val is None and isinstance(cdi, (list, tuple)) and cdi:\n",
    "                val = _to_int(cdi[0])\n",
    "            rec['correct_doc_id'] = val\n",
    "        rds = rec.get('relevant_docs', None)\n",
    "        if rds is not None:\n",
    "            rec['relevant_docs'] = [v for x in rds if (v := _to_int(x)) is not None]\n",
    "        an = rec.get('activated_neurons', {})\n",
    "        if isinstance(an, dict):\n",
    "            for lk, lst in list(an.items()):\n",
    "                if isinstance(lst, list):\n",
    "                    an[lk] = [v for x in lst if (v := _to_int(x)) is not None]\n",
    "        rec['activated_neurons'] = an\n",
    "        rd[q] = rec\n",
    "    with open(stats_path, 'r', encoding='utf-8') as f:\n",
    "        stats = json.load(f)\n",
    "    stats.setdefault('total_entries', len(rd))\n",
    "    stats.setdefault('by_layer', {})\n",
    "    stats.setdefault('global', {})\n",
    "    return (rd, stats)"
   ]
  },
  {
   "cell_type": "code",
   "execution_count": null,
   "id": "9b6f348c",
   "metadata": {},
   "outputs": [],
   "source": [
    "result_dict, stats = load_result_and_stats('activated_neurons_test_copy.json', 'neuron_activation_stats_with_entries_test_data.json')"
   ]
  },
  {
   "cell_type": "markdown",
   "id": "ee3e38f5",
   "metadata": {},
   "source": [
    "#### Load QID → query mapping (`qids_to_queries`)"
   ]
  },
  {
   "cell_type": "code",
   "execution_count": null,
   "id": "9f832da5",
   "metadata": {
    "ExecuteTime": {
     "end_time": "2025-08-22T13:48:26.215279400Z",
     "start_time": "2025-08-22T13:48:25.868195600Z"
    },
    "collapsed": false
   },
   "outputs": [],
   "source": [
    "qids_to_queries = torch.load('../q_ids_to_queries.json')"
   ]
  },
  {
   "cell_type": "code",
   "execution_count": null,
   "id": "2fb64299",
   "metadata": {},
   "outputs": [],
   "source": [
    "# Sanity checks for required inputs\n",
    "assert 'stats' in globals(), \"Missing `stats`. Load the activation stats before running the export.\"\n",
    "assert 'qids_to_queries' in globals(), \"Missing `qids_to_queries`. Load the QID→query mapping first.\"\n",
    "\n",
    "# Minimal structural checks (won't be exhaustive)\n",
    "assert 'by_layer' in stats, \"`stats` must have a 'by_layer' key.\"\n",
    "for L in range(17, 24):\n",
    "    lk = f\"layer_{L}\"\n",
    "    assert lk in stats['by_layer'], f\"Missing {lk} in stats['by_layer'].\"\n"
   ]
  },
  {
   "cell_type": "markdown",
   "id": "e08142f2",
   "metadata": {},
   "source": [
    "## Export per-layer neuron→queries dictionaries"
   ]
  },
  {
   "cell_type": "code",
   "execution_count": null,
   "id": "064d66d1",
   "metadata": {},
   "outputs": [],
   "source": [
    "for layer_idx in range(17, 24):  \n",
    "    layer_key = f\"layer_{layer_idx}\"\n",
    "    layer_neurons_and_queries = {}\n",
    "    for neuron, info in stats[\"by_layer\"][layer_key].items():\n",
    "        qid_entries = info[\"entries\"]\n",
    "        layer_neurons_and_queries[neuron] = {\n",
    "            \"queries\": [qids_to_queries[qid] for qid in qid_entries],\n",
    "            \"subjects\": []\n",
    "        }\n",
    "    # Filter 10–1000 queries per neuron\n",
    "    layer_neurons_and_queries_small = {\n",
    "        key: value for key, value in layer_neurons_and_queries.items()\n",
    "        if 10 <= len(value[\"queries\"]) <= 1000\n",
    "    }\n",
    "    # Save each layer separately as JSON\n",
    "    with open(f\"{layer_key}_neurons_and_queries.json\", \"w\") as f:\n",
    "        json.dump(layer_neurons_and_queries, f)\n",
    "    with open(f\"{layer_key}_neurons_and_queries_small.json\", \"w\") as f:\n",
    "        json.dump(layer_neurons_and_queries_small, f)"
   ]
  }
 ],
 "metadata": {
  "accelerator": "GPU",
  "colab": {
   "gpuType": "T4",
   "provenance": []
  },
  "kernelspec": {
   "display_name": "Transformers",
   "language": "python",
   "name": "python3"
  },
  "language_info": {
   "codemirror_mode": {
    "name": "ipython",
    "version": 3
   },
   "file_extension": ".py",
   "mimetype": "text/x-python",
   "name": "python",
   "nbconvert_exporter": "python",
   "pygments_lexer": "ipython3",
   "version": "3.11.13"
  }
 },
 "nbformat": 4,
 "nbformat_minor": 5
}
